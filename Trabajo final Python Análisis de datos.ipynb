{
    "cells": [
        {
            "cell_type": "markdown",
            "metadata": {},
            "source": "<a><img src=\"https://ibm.box.com/shared/static/ugcqz6ohbvff804xp84y4kqnvvk3bq1g.png\" width=\"200\" align=\"center\"></a>"
        },
        {
            "cell_type": "markdown",
            "metadata": {},
            "source": "<h1>Analyzing Where Do People Drink?  </h1>\n<h2>Description</h2>"
        },
        {
            "cell_type": "markdown",
            "metadata": {},
            "source": "This Dataset is from the story <a href=https://fivethirtyeight.com/features/dear-mona-followup-where-do-people-drink-the-most-beer-wine-and-spirits/>  Dear Mona Followup: Where Do People Drink The Most Beer, Wine And Spirits? </a>  The dataset contains Average serving sizes per person such as average wine, spirit, beer servings. As well as several other metrics. You will be asked to analyze the data and predict the total liters served given the servings. See how to share your lab at the end."
        },
        {
            "cell_type": "markdown",
            "metadata": {},
            "source": "You will need the following libraries:"
        },
        {
            "cell_type": "code",
            "execution_count": 19,
            "metadata": {},
            "outputs": [],
            "source": "import pandas as pd\nimport numpy as np\nimport matplotlib.pyplot as plt\nimport matplotlib as mpl\n\n"
        },
        {
            "cell_type": "markdown",
            "metadata": {},
            "source": "<b>1.0 Importing the Data</b>"
        },
        {
            "cell_type": "markdown",
            "metadata": {},
            "source": "Load the csv:"
        },
        {
            "cell_type": "code",
            "execution_count": 20,
            "metadata": {},
            "outputs": [],
            "source": "df= pd.read_csv('https://s3-api.us-geo.objectstorage.softlayer.net/cf-courses-data/CognitiveClass/DA0101EN/edx/project/drinks.csv')\n"
        },
        {
            "cell_type": "markdown",
            "metadata": {},
            "source": "We use the method  <code>head()</code>  to display the first 5 columns of the dataframe:"
        },
        {
            "cell_type": "code",
            "execution_count": 21,
            "metadata": {},
            "outputs": [
                {
                    "data": {
                        "text/html": "<div>\n<style scoped>\n    .dataframe tbody tr th:only-of-type {\n        vertical-align: middle;\n    }\n\n    .dataframe tbody tr th {\n        vertical-align: top;\n    }\n\n    .dataframe thead th {\n        text-align: right;\n    }\n</style>\n<table border=\"1\" class=\"dataframe\">\n  <thead>\n    <tr style=\"text-align: right;\">\n      <th></th>\n      <th>country</th>\n      <th>beer_servings</th>\n      <th>spirit_servings</th>\n      <th>wine_servings</th>\n      <th>total_litres_of_pure_alcohol</th>\n      <th>continent</th>\n    </tr>\n  </thead>\n  <tbody>\n    <tr>\n      <th>0</th>\n      <td>Afghanistan</td>\n      <td>0</td>\n      <td>0</td>\n      <td>0</td>\n      <td>0.0</td>\n      <td>Asia</td>\n    </tr>\n    <tr>\n      <th>1</th>\n      <td>Albania</td>\n      <td>89</td>\n      <td>132</td>\n      <td>54</td>\n      <td>4.9</td>\n      <td>Europe</td>\n    </tr>\n    <tr>\n      <th>2</th>\n      <td>Algeria</td>\n      <td>25</td>\n      <td>0</td>\n      <td>14</td>\n      <td>0.7</td>\n      <td>Africa</td>\n    </tr>\n    <tr>\n      <th>3</th>\n      <td>Andorra</td>\n      <td>245</td>\n      <td>138</td>\n      <td>312</td>\n      <td>12.4</td>\n      <td>Europe</td>\n    </tr>\n    <tr>\n      <th>4</th>\n      <td>Angola</td>\n      <td>217</td>\n      <td>57</td>\n      <td>45</td>\n      <td>5.9</td>\n      <td>Africa</td>\n    </tr>\n  </tbody>\n</table>\n</div>",
                        "text/plain": "       country  beer_servings  spirit_servings  wine_servings  \\\n0  Afghanistan              0                0              0   \n1      Albania             89              132             54   \n2      Algeria             25                0             14   \n3      Andorra            245              138            312   \n4       Angola            217               57             45   \n\n   total_litres_of_pure_alcohol continent  \n0                           0.0      Asia  \n1                           4.9    Europe  \n2                           0.7    Africa  \n3                          12.4    Europe  \n4                           5.9    Africa  "
                    },
                    "execution_count": 21,
                    "metadata": {},
                    "output_type": "execute_result"
                }
            ],
            "source": "df.head()"
        },
        {
            "cell_type": "markdown",
            "metadata": {},
            "source": "<b>Question 1</b>:  Display the data types of each column using the attribute\u202fdtype."
        },
        {
            "cell_type": "code",
            "execution_count": 22,
            "metadata": {},
            "outputs": [
                {
                    "data": {
                        "text/plain": "country                          object\nbeer_servings                     int64\nspirit_servings                   int64\nwine_servings                     int64\ntotal_litres_of_pure_alcohol    float64\ncontinent                        object\ndtype: object"
                    },
                    "execution_count": 22,
                    "metadata": {},
                    "output_type": "execute_result"
                }
            ],
            "source": "df.dtypes"
        },
        {
            "cell_type": "markdown",
            "metadata": {},
            "source": "<b>Question 2</b> use the method\u202f<code>groupby</code> to get the number of wine servings per continent:"
        },
        {
            "cell_type": "code",
            "execution_count": 23,
            "metadata": {},
            "outputs": [
                {
                    "data": {
                        "text/html": "<div>\n<style scoped>\n    .dataframe tbody tr th:only-of-type {\n        vertical-align: middle;\n    }\n\n    .dataframe tbody tr th {\n        vertical-align: top;\n    }\n\n    .dataframe thead th {\n        text-align: right;\n    }\n</style>\n<table border=\"1\" class=\"dataframe\">\n  <thead>\n    <tr style=\"text-align: right;\">\n      <th></th>\n      <th>continent</th>\n      <th>wine_servings</th>\n    </tr>\n  </thead>\n  <tbody>\n    <tr>\n      <th>0</th>\n      <td>Africa</td>\n      <td>862</td>\n    </tr>\n    <tr>\n      <th>1</th>\n      <td>Asia</td>\n      <td>399</td>\n    </tr>\n    <tr>\n      <th>2</th>\n      <td>Europe</td>\n      <td>6400</td>\n    </tr>\n    <tr>\n      <th>3</th>\n      <td>North America</td>\n      <td>564</td>\n    </tr>\n    <tr>\n      <th>4</th>\n      <td>Oceania</td>\n      <td>570</td>\n    </tr>\n    <tr>\n      <th>5</th>\n      <td>South America</td>\n      <td>749</td>\n    </tr>\n  </tbody>\n</table>\n</div>",
                        "text/plain": "       continent  wine_servings\n0         Africa            862\n1           Asia            399\n2         Europe           6400\n3  North America            564\n4        Oceania            570\n5  South America            749"
                    },
                    "execution_count": 23,
                    "metadata": {},
                    "output_type": "execute_result"
                }
            ],
            "source": "df_group = df[['wine_servings','continent']]\ndf_group = df_group.groupby(['continent'],as_index=False).sum()\ndf_group"
        },
        {
            "cell_type": "markdown",
            "metadata": {},
            "source": "<b>Question 3:</b> Perform a statistical summary and analysis of beer servings for each continent:"
        },
        {
            "cell_type": "code",
            "execution_count": 24,
            "metadata": {},
            "outputs": [
                {
                    "data": {
                        "text/html": "<div>\n<style scoped>\n    .dataframe tbody tr th:only-of-type {\n        vertical-align: middle;\n    }\n\n    .dataframe tbody tr th {\n        vertical-align: top;\n    }\n\n    .dataframe thead tr th {\n        text-align: left;\n    }\n\n    .dataframe thead tr:last-of-type th {\n        text-align: right;\n    }\n</style>\n<table border=\"1\" class=\"dataframe\">\n  <thead>\n    <tr>\n      <th></th>\n      <th colspan=\"8\" halign=\"left\">beer_servings</th>\n    </tr>\n    <tr>\n      <th></th>\n      <th>count</th>\n      <th>mean</th>\n      <th>std</th>\n      <th>min</th>\n      <th>25%</th>\n      <th>50%</th>\n      <th>75%</th>\n      <th>max</th>\n    </tr>\n    <tr>\n      <th>continent</th>\n      <th></th>\n      <th></th>\n      <th></th>\n      <th></th>\n      <th></th>\n      <th></th>\n      <th></th>\n      <th></th>\n    </tr>\n  </thead>\n  <tbody>\n    <tr>\n      <th>Africa</th>\n      <td>53.0</td>\n      <td>61.471698</td>\n      <td>80.557816</td>\n      <td>0.0</td>\n      <td>15.00</td>\n      <td>32.0</td>\n      <td>76.00</td>\n      <td>376.0</td>\n    </tr>\n    <tr>\n      <th>Asia</th>\n      <td>44.0</td>\n      <td>37.045455</td>\n      <td>49.469725</td>\n      <td>0.0</td>\n      <td>4.25</td>\n      <td>17.5</td>\n      <td>60.50</td>\n      <td>247.0</td>\n    </tr>\n    <tr>\n      <th>Europe</th>\n      <td>45.0</td>\n      <td>193.777778</td>\n      <td>99.631569</td>\n      <td>0.0</td>\n      <td>127.00</td>\n      <td>219.0</td>\n      <td>270.00</td>\n      <td>361.0</td>\n    </tr>\n    <tr>\n      <th>North America</th>\n      <td>23.0</td>\n      <td>145.434783</td>\n      <td>79.621163</td>\n      <td>1.0</td>\n      <td>80.00</td>\n      <td>143.0</td>\n      <td>198.00</td>\n      <td>285.0</td>\n    </tr>\n    <tr>\n      <th>Oceania</th>\n      <td>16.0</td>\n      <td>89.687500</td>\n      <td>96.641412</td>\n      <td>0.0</td>\n      <td>21.00</td>\n      <td>52.5</td>\n      <td>125.75</td>\n      <td>306.0</td>\n    </tr>\n    <tr>\n      <th>South America</th>\n      <td>12.0</td>\n      <td>175.083333</td>\n      <td>65.242845</td>\n      <td>93.0</td>\n      <td>129.50</td>\n      <td>162.5</td>\n      <td>198.00</td>\n      <td>333.0</td>\n    </tr>\n  </tbody>\n</table>\n</div>",
                        "text/plain": "              beer_servings                                              \\\n                      count        mean        std   min     25%    50%   \ncontinent                                                                 \nAfrica                 53.0   61.471698  80.557816   0.0   15.00   32.0   \nAsia                   44.0   37.045455  49.469725   0.0    4.25   17.5   \nEurope                 45.0  193.777778  99.631569   0.0  127.00  219.0   \nNorth America          23.0  145.434783  79.621163   1.0   80.00  143.0   \nOceania                16.0   89.687500  96.641412   0.0   21.00   52.5   \nSouth America          12.0  175.083333  65.242845  93.0  129.50  162.5   \n\n                              \n                  75%    max  \ncontinent                     \nAfrica          76.00  376.0  \nAsia            60.50  247.0  \nEurope         270.00  361.0  \nNorth America  198.00  285.0  \nOceania        125.75  306.0  \nSouth America  198.00  333.0  "
                    },
                    "execution_count": 24,
                    "metadata": {},
                    "output_type": "execute_result"
                }
            ],
            "source": "df1 = df[['beer_servings','continent']]\ndf1 = df1.groupby(['continent'],as_index=True).describe()\ndf1"
        },
        {
            "cell_type": "markdown",
            "metadata": {},
            "source": "<b>Question 4:</b> Use the function\u202fboxplot\u202fin the seaborn library to produce a plot that can be used to show the number of beer servings on each continent."
        },
        {
            "cell_type": "code",
            "execution_count": 25,
            "metadata": {},
            "outputs": [
                {
                    "data": {
                        "image/png": "[encoded data removed]",
                        "text/plain": "<Figure size 432x288 with 1 Axes>"
                    },
                    "metadata": {
                        "needs_background": "light"
                    },
                    "output_type": "display_data"
                }
            ],
            "source": "import seaborn as sns \nbp = sns.boxplot(x=\"continent\", y=\"beer_servings\", data=df)"
        },
        {
            "cell_type": "markdown",
            "metadata": {},
            "source": "<b>Question 5</b>: Use the function\u202f<code> regplot</code> in the seaborn library to determine if the number of wine servings is\nnegatively or positively correlated with the number of beer servings."
        },
        {
            "cell_type": "code",
            "execution_count": 26,
            "metadata": {},
            "outputs": [
                {
                    "data": {
                        "text/plain": "<matplotlib.axes._subplots.AxesSubplot at 0x7f252f858150>"
                    },
                    "execution_count": 26,
                    "metadata": {},
                    "output_type": "execute_result"
                },
                {
                    "data": {
                        "image/png": "[encoded data removed]",
                        "text/plain": "<Figure size 432x288 with 1 Axes>"
                    },
                    "metadata": {
                        "needs_background": "light"
                    },
                    "output_type": "display_data"
                }
            ],
            "source": "sns.regplot(x=\"wine_servings\", y=\"beer_servings\", data=df)"
        },
        {
            "cell_type": "markdown",
            "metadata": {},
            "source": "<b> Question 6:</b> Fit a linear regression model to predict the <code>'total_litres_of_pure_alcohol'</code> using the number of <code>'wine_servings'</code> then calculate $R^{2}$:\n"
        },
        {
            "cell_type": "code",
            "execution_count": 27,
            "metadata": {},
            "outputs": [
                {
                    "name": "stdout",
                    "output_type": "stream",
                    "text": "The R-square is:  0.4456875459787605\nThe output of the first four predicted value is:  [ 3.15407943  4.86088833  3.59658545 13.01564196]\n"
                }
            ],
            "source": "from sklearn.linear_model import LinearRegression\nlm=LinearRegression()\nX = df[['wine_servings']]\nY = df['total_litres_of_pure_alcohol']\nlm.fit(X, Y)\nYhat=lm.predict(X)\nprint('The R-square is: ', lm.score(X, Y))\nprint('The output of the first four predicted value is: ', Yhat[0:4])"
        },
        {
            "cell_type": "markdown",
            "metadata": {},
            "source": "### Question 7\nUse the list of features to predict the <code>'total_litres_of_pure_alcohol'</code>, split the data into training and testing and determine the $R^2$ on the test data, using the provided code:"
        },
        {
            "cell_type": "code",
            "execution_count": 28,
            "metadata": {},
            "outputs": [
                {
                    "name": "stdout",
                    "output_type": "stream",
                    "text": "The R-square is:  0.27854710093489043\n"
                }
            ],
            "source": "from sklearn.linear_model import LinearRegression\nfrom sklearn.model_selection import train_test_split\ny_data = df['total_litres_of_pure_alcohol']\nx_data = df.drop('total_litres_of_pure_alcohol',axis=1)\nx_train, x_test, y_train, y_test = train_test_split(x_data, y_data, test_size=0.20, random_state=0)\nlre=LinearRegression()\nlre.fit(x_train[['wine_servings']], y_train)\nprint('The R-square is: ', lre.score(x_test[['wine_servings']], y_test))"
        },
        {
            "cell_type": "markdown",
            "metadata": {},
            "source": "<b>Question 8 :</b> Create a pipeline object that scales the data, performs a polynomial transform and fits a linear regression model. Fit the object using the training data in the question above, then calculate the R^2 using. the test data. Take a screenshot of your code and the $R^{2}$. There are some hints in the notebook:"
        },
        {
            "cell_type": "markdown",
            "metadata": {},
            "source": "<code>'scale'</code>\n\n<code>'polynomial'</code>\n\n<code>'model'</code>\n\nThe second element in the tuple contains the model constructor\n\n<code>StandardScaler()</code>\n\n<code>PolynomialFeatures(include_bias=False)</code>\n\n<code>LinearRegression()</code>"
        },
        {
            "cell_type": "code",
            "execution_count": 29,
            "metadata": {},
            "outputs": [
                {
                    "name": "stdout",
                    "output_type": "stream",
                    "text": "The R-square is:  0.37189225144956195\n"
                }
            ],
            "source": "from sklearn.pipeline import Pipeline\nfrom sklearn.preprocessing import StandardScaler,PolynomialFeatures\nInput=[('scale',StandardScaler()), ('polynomial', PolynomialFeatures(include_bias=False)), ('model',LinearRegression())]\npipe=Pipeline(Input)\npipe.fit(x_train[['wine_servings']], y_train)\nprint('The R-square is: ', pipe.score(x_test[['wine_servings']], y_test))"
        },
        {
            "cell_type": "markdown",
            "metadata": {},
            "source": "<b>Question 9</b>: Create and fit a Ridge regression object using the training data, setting the regularization parameter to 0.1 and calculate the $R^{2}$ using the test data. Take a screenshot of your code and the $R^{2}$"
        },
        {
            "cell_type": "code",
            "execution_count": 30,
            "metadata": {},
            "outputs": [
                {
                    "name": "stdout",
                    "output_type": "stream",
                    "text": "The R-square is:  0.2785470957952444\n"
                }
            ],
            "source": "from sklearn.linear_model import Ridge\nRigeModel=Ridge(alpha=0.1)\nRigeModel.fit(x_train[['wine_servings']], y_train)\nprint('The R-square is: ', RigeModel.score(x_test[['wine_servings']], y_test))"
        },
        {
            "cell_type": "markdown",
            "metadata": {},
            "source": "<b>Question 10 </b>: Perform a 2nd order polynomial transform on both the training data and testing data.  Create and fit a Ridge regression object using the training data, setting the regularization parameter to 0.1. Calculate the $R^{2}$ utilizing the test data provided. Take a screen-shot of your code and the $R^{2}$. "
        },
        {
            "cell_type": "code",
            "execution_count": 31,
            "metadata": {},
            "outputs": [
                {
                    "name": "stdout",
                    "output_type": "stream",
                    "text": "The R-square is:  0.3718921964608618\n"
                }
            ],
            "source": "from sklearn.preprocessing import PolynomialFeatures\npr = PolynomialFeatures(degree=2)\nx_train_pr = pr.fit_transform(x_train[['wine_servings']])\nx_test_pr = pr.fit_transform(x_test[['wine_servings']])\nRigeModel=Ridge(alpha=0.1)\nRigeModel.fit(x_train_pr, y_train)\nprint('The R-square is: ', RigeModel.score(x_test_pr, y_test))"
        },
        {
            "cell_type": "markdown",
            "metadata": {},
            "source": "<a href=\"https://dataplatform.cloud.ibm.com/docs/content/wsj/analyze-data/share-notebooks.html\\\" > CLICK HERE </a>  to see how to share your notebook"
        },
        {
            "cell_type": "markdown",
            "metadata": {},
            "source": "<b>Sources</b>"
        },
        {
            "cell_type": "markdown",
            "metadata": {},
            "source": "<a href=https://fivethirtyeight.com/features/dear-mona-followup-where-do-people-drink-the-most-beer-wine-and-spirits/> Dear Mona Followup: Where Do People Drink The Most Beer, Wine And Spirits?</a> by By Mona Chalabi , you can download the dataset <a href=https://github.com/fivethirtyeight/data/tree/master/alcohol-consumption>here</a>."
        }
    ],
    "metadata": {
        "kernelspec": {
            "display_name": "Python 3.7",
            "language": "python",
            "name": "python3"
        },
        "language_info": {
            "codemirror_mode": {
                "name": "ipython",
                "version": 3
            },
            "file_extension": ".py",
            "mimetype": "text/x-python",
            "name": "python",
            "nbconvert_exporter": "python",
            "pygments_lexer": "ipython3",
            "version": "3.7.10"
        }
    },
    "nbformat": 4,
    "nbformat_minor": 2
}